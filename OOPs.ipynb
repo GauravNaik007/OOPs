{
  "nbformat": 4,
  "nbformat_minor": 0,
  "metadata": {
    "colab": {
      "provenance": []
    },
    "kernelspec": {
      "name": "python3",
      "display_name": "Python 3"
    },
    "language_info": {
      "name": "python"
    }
  },
  "cells": [
    {
      "cell_type": "markdown",
      "source": [
        "# **Theory**"
      ],
      "metadata": {
        "id": "G1SqBbR-DRt-"
      }
    },
    {
      "cell_type": "markdown",
      "source": [
        "1.  What is Object-Oriented Programming (OOP)?\n",
        "    - OOP is a way of programming where we use objects and classes to make code more organized and reusable. It makes big programs easier to handle.\n",
        "\n",
        "```\n",
        "#example\n",
        "class Student:\n",
        "    def __init__(self, name):\n",
        "        self.name = name\n",
        "\n",
        "```\n",
        "---\n",
        "2. What is a class in OOP?\n",
        "    - A class is like a blueprint to create objects. It defines what properties and actions (methods) an object can have.\n",
        "\n",
        "\n",
        "\n",
        "```\n",
        "# Example\n",
        "class Car:\n",
        "    def __init__(self, brand):\n",
        "        self.brand = brand\n",
        "\n",
        "```\n",
        "---\n",
        "3.What is an object in OOP?\n",
        "  - An object is an instance of a class. It contains real values and can use the methods of the class.\n",
        "\n",
        "\n",
        "```\n",
        "#Example\n",
        "c = Car(\"Honda\")\n",
        "print(c.brand)\n",
        "```\n",
        "---\n",
        "4. What is the difference between abstraction and encapsulation?\n",
        "    - Abstraction hides unnecessary details.\n",
        "\n",
        "    - Encapsulation hides data using private variables and protects it from outside.\n",
        "\n",
        "```\n",
        "# class Bank:\n",
        "    def __init__(self):\n",
        "        self.__balance = 1000\n",
        "\n",
        "    def show(self):\n",
        "        print(self.__balance)\n",
        "```\n",
        "---\n",
        "5.What are dunder methods in Python?\n",
        "  - Dunder means double underscore. These are special methods like __init__,\n",
        "    __str__, __len__ that have special meaning.\n",
        "\n",
        "```\n",
        "# Example\n",
        "class Book:\n",
        "    def __str__(self):\n",
        "        return \"Book object\"\n",
        "\n",
        "b = Book()\n",
        "print(b)\n",
        "\n",
        "```\n",
        "---\n",
        "6.Explain the concept of inheritance in OOP.\n",
        "  - Inheritance lets one class (child) use the properties and methods of another class (parent).\n",
        "\n",
        "```\n",
        "# Example\n",
        "class Animal:\n",
        "    def speak(self):\n",
        "        print(\"Animal sound\")\n",
        "\n",
        "class Dog(Animal):\n",
        "    def bark(self):\n",
        "        print(\"Bark\")\n",
        "\n",
        "d = Dog()\n",
        "d.speak()\n",
        "d.bark()\n",
        "\n",
        "```\n",
        "---\n",
        "7. What is polymorphism in OOP?\n",
        "    - Polymorphism means one function can work in different ways, depending on the object.\n",
        "\n",
        "```\n",
        "# Example\n",
        "class Cat:\n",
        "    def sound(self):\n",
        "        print(\"Meow\")\n",
        "\n",
        "class Cow:\n",
        "    def sound(self):\n",
        "        print(\"Moo\")\n",
        "\n",
        "def make_sound(animal):\n",
        "    animal.sound()\n",
        "\n",
        "make_sound(Cat())\n",
        "make_sound(Cow())\n",
        "\n",
        "```\n",
        "---\n",
        "\n",
        "8.How is encapsulation achieved in Python?\n",
        "  - Encapsulation means hiding internal data from outside the class and only allowing access through methods.\n",
        "  -  In Python, it's done using private variables (by adding double underscores\n",
        "  __ before the variable name).\n",
        "  -  We then use getter and setter methods to safely access or update the private data\n",
        "\n",
        "```\n",
        "# Example\n",
        "class Student:\n",
        "    def _init_(self):\n",
        "        self.__marks = 90  # private variable\n",
        "\n",
        "    def get_marks(self):  # getter method\n",
        "        return self.__marks\n",
        "\n",
        "    def set_marks(self, new_marks):  # setter method\n",
        "        if new_marks >= 0:\n",
        "            self.__marks = new_marks\n",
        "\n",
        "s = Student()\n",
        "print(s.get_marks())  # accessing private variable using getter\n",
        "s.set_marks(95)       # modifying private variable using setter\n",
        "print(s.get_marks())\n",
        "\n",
        "```\n",
        "  - This is encapsulation: the variable __marks is not directly accessible from outside the class, protecting the data.\n",
        "\n",
        "---\n",
        "9. What is a constructor in Python?\n",
        "    - A constructor is a special method called __init__() which runs when an object is created.\n",
        "\n",
        "```\n",
        "# Example\n",
        "class Laptop:\n",
        "    def __init__(self, brand):\n",
        "        self.brand = brand\n",
        "```\n",
        "---\n",
        "10.What are class and static methods in Python?\n",
        "  - Class method uses @classmethod and has access to the class (cls).\n",
        "\n",
        "  - Static method uses @staticmethod and doesn’t access class or instance.\n",
        "\n",
        "```\n",
        "# Texample\n",
        "class Test:\n",
        "    @classmethod\n",
        "    def hello(cls):\n",
        "        print(\"Class method\")\n",
        "\n",
        "    @staticmethod\n",
        "    def hi():\n",
        "        print(\"Static method\")\n",
        "```\n",
        "---\n",
        "11.What is method overloading in Python?\n",
        "  - Python doesn’t support real method overloading, but we can use default arguments to achieve it.\n",
        "\n",
        "```\n",
        "# example\n",
        "class Math:\n",
        "    def add(self, a, b=0):\n",
        "        return a + b\n",
        "\n",
        "```\n",
        "---\n",
        "12.What is method overriding in OOP?\n",
        "  - When a child class redefines a method of the parent class, it's called overriding.\n",
        "\n",
        "```\n",
        "# Example\n",
        "class Parent:\n",
        "    def show(self):\n",
        "        print(\"Parent\")\n",
        "\n",
        "class Child(Parent):\n",
        "    def show(self):\n",
        "        print(\"Child\")\n",
        "\n",
        "```\n",
        "---\n",
        "13.What is a property decorator in Python?\n",
        "  - @property lets us access a method like a variable. It is used for getters/setters.\n",
        "\n",
        "```\n",
        "# Example\n",
        "class Student:\n",
        "    def __init__(self, marks):\n",
        "        self._marks = marks\n",
        "\n",
        "    @property\n",
        "    def marks(self):\n",
        "        return self._marks\n",
        "```\n",
        "---\n",
        "14.Why is polymorphism important in OOP?\n",
        "  - Polymorphism allows different classes to define the same method in their own way.\n",
        "\n",
        "  -  It helps in writing flexible and reusable code, because one function can work with different types of objects.\n",
        "\n",
        "  - Makes code easier to extend and maintain, especially when working with class hierarchies.\n",
        "\n",
        "  - Improves readability by allowing common interfaces.\n",
        "\n",
        "\n",
        "```\n",
        "# example\n",
        "class Cat:\n",
        "    def sound(self):\n",
        "        print(\"Meow\")\n",
        "\n",
        "class Dog:\n",
        "    def sound(self):\n",
        "        print(\"Bark\")\n",
        "\n",
        "def make_sound(animal):\n",
        "    animal.sound()\n",
        "\n",
        "make_sound(Cat())\n",
        "make_sound(Dog())\n",
        "\n",
        "```\n",
        "\n",
        "\n",
        "\n",
        "---\n",
        "\n",
        "15.What is an abstract class in Python?\n",
        "  - An abstract class has at least one abstract method (which has no body). It is used when we want subclasses to implement the method.\n",
        "\n",
        "\n",
        "```\n",
        "# from abc import ABC, abstractmethod\n",
        "\n",
        "class Shape(ABC):\n",
        "    @abstractmethod\n",
        "    def area(self):\n",
        "        pass\n",
        "```\n",
        "---\n",
        "16.What are the advantages of OOP?\n",
        "  - Advangteges of OOPs:\n",
        "\n",
        "    * Helps with debugging\n",
        "    * Code is reusable\n",
        "    * Easier to manage\n",
        "    * Real-world modeling\n",
        "---\n",
        "\n",
        "17.What is the difference between a class variable and an instance variable?\n",
        "  - Class variable is shared by all objects.\n",
        "\n",
        "  - Instance variable is specific to one object.\n",
        "\n",
        "```\n",
        "# example\n",
        "class Student:\n",
        "    school = \"ABC School\"  # class variable\n",
        "\n",
        "    def __init__(self, name):\n",
        "        self.name = name  # instance variable\n",
        "\n",
        "```\n",
        "18.What is multiple inheritance in Python?\n",
        "\n",
        "  - When a class inherits from more than one parent class.\n",
        "\n",
        "```\n",
        "#example\n",
        "class A:\n",
        "    def showA(self):\n",
        "        print(\"A\")\n",
        "\n",
        "class B:\n",
        "    def showB(self):\n",
        "        print(\"B\")\n",
        "\n",
        "class C(A, B):\n",
        "    pass\n",
        "\n",
        "```\n",
        "---\n",
        "19.Explain the purpose of __str__ and __repr__ methods in Python.\n",
        "  - The __str__() method is used to return a user-friendly string representation of an object. It is called when we use the print() function.\n",
        "\n",
        "  - The __repr__() method is meant to return a developer-friendly representation of the object, useful for debugging. It should ideally return a string that could recreate the object.\n",
        "\n",
        "\n",
        "```\n",
        "# Example\n",
        "class Book:\n",
        "    def __init__(self, title):\n",
        "        self.title = title\n",
        "\n",
        "    def __str__(self):\n",
        "        return f\"Book Title: {self.title}\"\n",
        "\n",
        "    def __repr__(self):\n",
        "        return f\"Book('{self.title}')\"\n",
        "\n",
        "b = Book(\"Python Basics\")\n",
        "print(str(b))    # Output: Book Title: Python Basics\n",
        "print(repr(b))   # Output: Book('Python Basics')\n",
        "\n",
        "```\n",
        "---\n",
        "20.What is the significance of the super() function in Python?\n",
        "  - The super() function allows us to call methods from a parent class inside a child class. It is especially useful in inheritance when we want to extend the functionality of the parent method.\n",
        "\n",
        "\n",
        "```\n",
        "# example\n",
        "class Animal:\n",
        "    def __init__(self):\n",
        "        print(\"Animal initialized\")\n",
        "\n",
        "    def speak(self):\n",
        "        print(\"Animal sound\")\n",
        "\n",
        "class Dog(Animal):\n",
        "    def __init__(self):\n",
        "        super().__init__()  # Calling parent class constructor\n",
        "        print(\"Dog initialized\")\n",
        "\n",
        "    def speak(self):\n",
        "        super().speak()  # Calling parent class method\n",
        "        print(\"Dog barks\")\n",
        "\n",
        "d = Dog()\n",
        "d.speak()\n",
        "\n",
        "```\n",
        "---\n",
        "21.What is the significance of the __del__ method in Python?\n",
        "  - The __del__() method is called when an object is about to be destroyed. It works like a destructor in other languages and is mainly used to clean up resources like files or network connections.\n",
        "\n",
        "```\n",
        "#example\n",
        "class Demo:\n",
        "    def __del__(self):\n",
        "        print(\"Object is being deleted\")\n",
        "\n",
        "d = Demo()\n",
        "del d  # __del__ is called automatically\n",
        "\n",
        "```\n",
        "---\n",
        "22.Difference between @staticmethod and @classmethod in Python\n",
        "\n",
        "  -  @staticmethod:\n",
        "\n",
        "    * Does not take self or cls as a parameter.\n",
        "\n",
        "    * Cannot access or modify class state or instance state.\n",
        "\n",
        "    * Used for utility functions related to the class.\n",
        "\n",
        "  - @classmethod:\n",
        "\n",
        "    * Takes cls as the first parameter.\n",
        "\n",
        "    * Can access and modify class variables.\n",
        "\n",
        "    * Useful when you want to create alternative constructors or modify class-level data.\n",
        "\n",
        "```\n",
        "# example\n",
        "class Demo:\n",
        "    school_name = \"ABC School\"\n",
        "\n",
        "    @staticmethod\n",
        "    def greet():\n",
        "        print(\"Hello, welcome!\")\n",
        "\n",
        "    @classmethod\n",
        "    def change_school(cls, name):\n",
        "        cls.school_name = name\n",
        "\n",
        "Demo.greet()  # Static method\n",
        "Demo.change_school(\"XYZ School\")  # Class method\n",
        "print(Demo.school_name)\n",
        "\n",
        "```\n",
        "---\n",
        "23.How does polymorphism work in Python with inheritance?\n",
        "  - In inheritance, polymorphism allows a child class to override a method from its parent class. This means the same method name can behave differently based on the object that is calling it.\n",
        "\n",
        "\n",
        "```\n",
        "# example\n",
        "class Vehicle:\n",
        "    def move(self):\n",
        "        print(\"Vehicle is moving\")\n",
        "\n",
        "class Car(Vehicle):\n",
        "    def move(self):\n",
        "        print(\"Car is driving\")\n",
        "\n",
        "v = Vehicle()\n",
        "c = Car()\n",
        "v.move()  # Vehicle is moving\n",
        "c.move()  # Car is driving\n",
        "\n",
        "```\n",
        "---\n",
        "24.What is method chaining in Python OOP?\n",
        "  - Method chaining means calling multiple methods in a single line using dot (.) notation. To support chaining, each method should return self.\n",
        "\n",
        "```\n",
        "# example\n",
        "class Calculator:\n",
        "    def __init__(self):\n",
        "        self.value = 0\n",
        "\n",
        "    def add(self, num):\n",
        "        self.value += num\n",
        "        return self\n",
        "\n",
        "    def subtract(self, num):\n",
        "        self.value -= num\n",
        "        return self\n",
        "\n",
        "c = Calculator()\n",
        "print(c.add(5).subtract(2).value)  # Output: 3\n",
        "\n",
        "```\n",
        "---\n",
        "25.What is the purpose of the __call__ method in Python?\n",
        "  - The __call__() method allows an object to be called like a function. When this method is defined in a class, the object can be \"called\" using parentheses.\n",
        "\n",
        "\n",
        "```\n",
        "# example\n",
        "class Greet:\n",
        "    def __call__(self, name):\n",
        "        print(f\"Hello, {name}!\")\n",
        "\n",
        "g = Greet()\n",
        "g(\"Amit\")  # Output: Hello, Amit!\n",
        "\n",
        "```\n",
        "---"
      ],
      "metadata": {
        "id": "7C-8C9ObDli2"
      }
    },
    {
      "cell_type": "markdown",
      "source": [
        "# **Practical**"
      ],
      "metadata": {
        "id": "r0AYdm3EPOUe"
      }
    },
    {
      "cell_type": "code",
      "source": [
        "#1. Create a parent class Animal with a method speak() that prints a generic message. Create a child class Dog that overrides the speak() method to print \"Bark!\".\n",
        "class Animal:\n",
        "    def speak(self):\n",
        "        print(\"Animal speaks\")\n",
        "\n",
        "class Dog(Animal):\n",
        "    def speak(self):\n",
        "        print(\"Bark!\")\n",
        "dog = Dog()\n",
        "dog.speak()\n"
      ],
      "metadata": {
        "id": "63VvnlUePNm5",
        "colab": {
          "base_uri": "https://localhost:8080/"
        },
        "outputId": "7279b0c1-aeb9-423c-b87e-21a596b5107a"
      },
      "execution_count": null,
      "outputs": [
        {
          "output_type": "stream",
          "name": "stdout",
          "text": [
            "Bark!\n"
          ]
        }
      ]
    },
    {
      "cell_type": "code",
      "source": [
        "#2. Write a program to create an abstract class Shape with a method area(). Derive classes Circle and Rectangle from it and implement the area() method in both.\n",
        "from abc import ABC, abstractmethod\n",
        "\n",
        "class Shape(ABC):\n",
        "    @abstractmethod\n",
        "    def area(self):\n",
        "        pass\n",
        "\n",
        "class Circle(Shape):\n",
        "    def area(self):\n",
        "        print(\"Area of Circle\")\n",
        "\n",
        "class Rectangle(Shape):\n",
        "    def area(self):\n",
        "        print(\"Area of Rectangle\")\n",
        "c = Circle()\n",
        "c.area()\n",
        "r = Rectangle()\n",
        "r.area()\n",
        "\n",
        "\n"
      ],
      "metadata": {
        "colab": {
          "base_uri": "https://localhost:8080/"
        },
        "id": "NOZm29QZkGgz",
        "outputId": "919e5b6d-51ff-4494-8473-48b7bb465d0c"
      },
      "execution_count": null,
      "outputs": [
        {
          "output_type": "stream",
          "name": "stdout",
          "text": [
            "Area of Circle\n",
            "Area of Rectangle\n"
          ]
        }
      ]
    },
    {
      "cell_type": "code",
      "source": [
        "#3. Implement a multi-level inheritance scenario where a class Vehicle has an attribute type. Derive a class Car and further derive a class ElectricCar that adds a battery attribute.\n",
        "class Vehicle:\n",
        "    def __init__(self, v_type):\n",
        "        self.type = v_type\n",
        "\n",
        "class Car(Vehicle):\n",
        "    def __init__(self, v_type, brand):\n",
        "        super().__init__(v_type)\n",
        "        self.brand = brand\n",
        "\n",
        "class ElectricCar(Car):\n",
        "    def __init__(self, v_type, brand, battery):\n",
        "        super().__init__(v_type, brand)\n",
        "        self.battery = battery\n",
        "\n",
        "e_car = ElectricCar(\"Electric\", \"Tesla\", \"100 kWh\")\n",
        "print(e_car.type, e_car.brand, e_car.battery)\n"
      ],
      "metadata": {
        "colab": {
          "base_uri": "https://localhost:8080/"
        },
        "id": "zrvLzwy8kOTt",
        "outputId": "565f7ec3-9a24-4b4f-8e91-247a1d8d103f"
      },
      "execution_count": null,
      "outputs": [
        {
          "output_type": "stream",
          "name": "stdout",
          "text": [
            "Electric Tesla 100 kWh\n"
          ]
        }
      ]
    },
    {
      "cell_type": "code",
      "source": [
        "#4. Demonstrate polymorphism by creating a base class Bird with a method fly(). Create two derived classes Sparrow and Penguin that override the fly() method.\n",
        "class Bird:\n",
        "    def fly(self):\n",
        "        print(\"Some birds can fly\")\n",
        "\n",
        "class Sparrow(Bird):\n",
        "    def fly(self):\n",
        "        print(\"Sparrow can fly\")\n",
        "\n",
        "class Penguin(Bird):\n",
        "    def fly(self):\n",
        "        print(\"Penguin cannot fly\")\n",
        "\n",
        "b1 = Sparrow()\n",
        "b2 = Penguin()\n",
        "b1.fly()\n",
        "b2.fly()\n"
      ],
      "metadata": {
        "colab": {
          "base_uri": "https://localhost:8080/"
        },
        "id": "CEk6mcUckei4",
        "outputId": "b1c96590-d8f1-453d-bc15-af63f6c3cda7"
      },
      "execution_count": null,
      "outputs": [
        {
          "output_type": "stream",
          "name": "stdout",
          "text": [
            "Sparrow can fly\n",
            "Penguin cannot fly\n"
          ]
        }
      ]
    },
    {
      "cell_type": "code",
      "source": [
        "#5. Write a program to demonstrate encapsulation by creating a class BankAccount with private attributes balance and methods to deposit, withdraw, and check balance.\n",
        "class BankAccount:\n",
        "    def __init__(self):\n",
        "        self.__balance = 0\n",
        "\n",
        "    def deposit(self, amount):\n",
        "        self.__balance += amount\n",
        "\n",
        "    def withdraw(self, amount):\n",
        "        if amount <= self.__balance:\n",
        "            self.__balance -= amount\n",
        "        else:\n",
        "            print(\"Insufficient balance\")\n",
        "\n",
        "    def check_balance(self):\n",
        "        print(\"Balance:\", self.__balance)\n",
        "acc = BankAccount()\n",
        "acc.deposit(1000)\n",
        "acc.withdraw(200)\n",
        "acc.check_balance()\n"
      ],
      "metadata": {
        "colab": {
          "base_uri": "https://localhost:8080/"
        },
        "id": "VNHUzsjKkeQM",
        "outputId": "999b40ee-d62f-46a1-c78b-edd12d1e89a2"
      },
      "execution_count": null,
      "outputs": [
        {
          "output_type": "stream",
          "name": "stdout",
          "text": [
            "Balance: 800\n"
          ]
        }
      ]
    },
    {
      "cell_type": "code",
      "source": [
        "#6. Demonstrate runtime polymorphism using a method play() in a base class Instrument. Derive classes Guitar and Piano that implement their own version of play().\n",
        "class Instrument:\n",
        "    def play(self):\n",
        "        print(\"Instrument is playing\")\n",
        "\n",
        "class Guitar(Instrument):\n",
        "    def play(self):\n",
        "        print(\"Guitar is playing\")\n",
        "\n",
        "class Piano(Instrument):\n",
        "    def play(self):\n",
        "        print(\"Piano is playing\")\n",
        "\n",
        "inst1 = Guitar()\n",
        "inst2 = Piano()\n",
        "inst1.play()\n",
        "inst2.play()\n"
      ],
      "metadata": {
        "colab": {
          "base_uri": "https://localhost:8080/"
        },
        "id": "appDIJ3mkzNa",
        "outputId": "89d02806-f8f7-4155-fcb0-ebc0488241c8"
      },
      "execution_count": null,
      "outputs": [
        {
          "output_type": "stream",
          "name": "stdout",
          "text": [
            "Guitar is playing\n",
            "Piano is playing\n"
          ]
        }
      ]
    },
    {
      "cell_type": "code",
      "source": [
        "#7. Create a class MathOperations with a class method add_numbers() to add two numbers and a static method subtract_numbers() to subtract two numbers.\n",
        "class MathOperations:\n",
        "    @classmethod\n",
        "    def add_numbers(cls, a, b):\n",
        "        return a + b\n",
        "\n",
        "    @staticmethod\n",
        "    def subtract_numbers(a, b):\n",
        "        return a - b\n",
        "\n",
        "print(\"Addition:\", MathOperations.add_numbers(10, 5))\n",
        "print(\"Subtraction:\", MathOperations.subtract_numbers(10, 5))\n"
      ],
      "metadata": {
        "colab": {
          "base_uri": "https://localhost:8080/"
        },
        "id": "MNUc_gARlBv8",
        "outputId": "690078c0-5b70-4ed4-9fbd-f22ba93ae610"
      },
      "execution_count": null,
      "outputs": [
        {
          "output_type": "stream",
          "name": "stdout",
          "text": [
            "Addition: 15\n",
            "Subtraction: 5\n"
          ]
        }
      ]
    },
    {
      "cell_type": "code",
      "source": [
        "#8. Implement a class Person with a class method to count the total number of persons created.\n",
        "class Person:\n",
        "    count = 0\n",
        "\n",
        "    def __init__(self):\n",
        "        Person.count += 1\n",
        "\n",
        "    @classmethod\n",
        "    def show_count(cls):\n",
        "        print(\"Total Persons:\", cls.count)\n",
        "\n",
        "p1 = Person()\n",
        "p2 = Person()\n",
        "p3 = Person()\n",
        "Person.show_count()\n"
      ],
      "metadata": {
        "id": "0n3nImODlRp7",
        "colab": {
          "base_uri": "https://localhost:8080/"
        },
        "outputId": "028be292-7373-4557-8250-0b26fa208796"
      },
      "execution_count": 8,
      "outputs": [
        {
          "output_type": "stream",
          "name": "stdout",
          "text": [
            "Total Persons: 3\n"
          ]
        }
      ]
    },
    {
      "cell_type": "code",
      "source": [
        "#9. Write a class Fraction with attributes numerator and denominator. Override the str method to display the fraction as \"numerator/denominator\".\n",
        "class Fraction:\n",
        "    def __init__(self, numerator, denominator):\n",
        "        self.numerator = numerator\n",
        "        self.denominator = denominator\n",
        "\n",
        "    def __str__(self):\n",
        "        return f\"{self.numerator}/{self.denominator}\"\n",
        "\n",
        "f = Fraction(3, 4)\n",
        "print(f)\n"
      ],
      "metadata": {
        "colab": {
          "base_uri": "https://localhost:8080/"
        },
        "id": "_6c67DCGlcl_",
        "outputId": "e0d2ff4e-7198-4cfd-d7af-6756d4b079d7"
      },
      "execution_count": 9,
      "outputs": [
        {
          "output_type": "stream",
          "name": "stdout",
          "text": [
            "3/4\n"
          ]
        }
      ]
    },
    {
      "cell_type": "code",
      "source": [
        "#10. Demonstrate operator overloading by creating a class Vector and overriding the add method to add two vectors.\n",
        "class Vector:\n",
        "    def __init__(self, x, y):\n",
        "        self.x = x\n",
        "        self.y = y\n",
        "\n",
        "    def __add__(self, other):\n",
        "        return Vector(self.x + other.x, self.y + other.y)\n",
        "\n",
        "    def __str__(self):\n",
        "        return f\"Vector({self.x}, {self.y})\"\n",
        "\n",
        "v1 = Vector(2, 3)\n",
        "v2 = Vector(4, 1)\n",
        "v3 = v1 + v2\n",
        "print(v3)\n"
      ],
      "metadata": {
        "colab": {
          "base_uri": "https://localhost:8080/"
        },
        "id": "NyVb12lAloLO",
        "outputId": "47d5cb83-06d7-4294-90bc-b05ca0f1cf80"
      },
      "execution_count": 10,
      "outputs": [
        {
          "output_type": "stream",
          "name": "stdout",
          "text": [
            "Vector(6, 4)\n"
          ]
        }
      ]
    },
    {
      "cell_type": "code",
      "source": [
        "#11. Create a class Person with attributes name and age. Add a method greet() that prints \"Hello, my name is {name} and I am {age} years old.\n",
        "class Person:\n",
        "    def __init__(self, name, age):\n",
        "        self.name = name\n",
        "        self.age = age\n",
        "\n",
        "    def greet(self):\n",
        "        print(f\"Hello, my name is {self.name} and I am {self.age} years old.\")\n",
        "\n",
        "p = Person(\"Gaurav\", 20)\n",
        "p.greet()\n"
      ],
      "metadata": {
        "colab": {
          "base_uri": "https://localhost:8080/"
        },
        "id": "2hGXHWj0mGGh",
        "outputId": "e1d59e68-e5c1-49fe-a1fd-fc0d8bc662e7"
      },
      "execution_count": 11,
      "outputs": [
        {
          "output_type": "stream",
          "name": "stdout",
          "text": [
            "Hello, my name is Gaurav and I am 20 years old.\n"
          ]
        }
      ]
    },
    {
      "cell_type": "code",
      "source": [
        "#12. Implement a class Student with attributes name and grades. Create a method average_grade() to compute the average of the grades.\n",
        "class Student:\n",
        "    def __init__(self, name, grades):\n",
        "        self.name = name\n",
        "        self.grades = grades\n",
        "\n",
        "    def average_grade(self):\n",
        "        avg = sum(self.grades) / len(self.grades)\n",
        "        print(f\"Average grade of {self.name} is {avg}\")\n",
        "\n",
        "s = Student(\"Bob\", [85, 90, 78])\n",
        "s.average_grade()\n"
      ],
      "metadata": {
        "colab": {
          "base_uri": "https://localhost:8080/"
        },
        "id": "gGboNi83mGBr",
        "outputId": "586ae484-c8f0-4d09-978c-86a8738bb8b2"
      },
      "execution_count": 12,
      "outputs": [
        {
          "output_type": "stream",
          "name": "stdout",
          "text": [
            "Average grade of Bob is 84.33333333333333\n"
          ]
        }
      ]
    },
    {
      "cell_type": "code",
      "source": [
        "#13. Create a class Rectangle with methods set_dimensions() to set the dimensions and area() to calculate the area.\n",
        "class Rectangle:\n",
        "    def set_dimensions(self, length, width):\n",
        "        self.length = length\n",
        "        self.width = width\n",
        "\n",
        "    def area(self):\n",
        "        return self.length * self.width\n",
        "\n",
        "r = Rectangle()\n",
        "r.set_dimensions(5, 4)\n",
        "print(\"Area of rectangle:\", r.area())\n"
      ],
      "metadata": {
        "colab": {
          "base_uri": "https://localhost:8080/"
        },
        "id": "GbGrP_XgmZTN",
        "outputId": "17bea327-997e-421c-8f14-712a55820bd5"
      },
      "execution_count": 13,
      "outputs": [
        {
          "output_type": "stream",
          "name": "stdout",
          "text": [
            "Area of rectangle: 20\n"
          ]
        }
      ]
    },
    {
      "cell_type": "code",
      "source": [
        "#14. Create a class Employee with a method calculate_salary() that computes the salary based on hours worked and hourly rate. Create a derived class Manager that adds a bonus to the salary\n",
        "class Employee:\n",
        "    def __init__(self, hours, rate):\n",
        "        self.hours = hours\n",
        "        self.rate = rate\n",
        "\n",
        "    def calculate_salary(self):\n",
        "        return self.hours * self.rate\n",
        "\n",
        "class Manager(Employee):\n",
        "    def __init__(self, hours, rate, bonus):\n",
        "        super().__init__(hours, rate)\n",
        "        self.bonus = bonus\n",
        "\n",
        "    def calculate_salary(self):\n",
        "        return super().calculate_salary() + self.bonus\n",
        "\n",
        "e = Employee(40, 20)\n",
        "m = Manager(40, 20, 100)\n",
        "\n",
        "print(\"Employee Salary:\", e.calculate_salary())\n",
        "print(\"Manager Salary:\", m.calculate_salary())\n"
      ],
      "metadata": {
        "colab": {
          "base_uri": "https://localhost:8080/"
        },
        "id": "lal02kOimfoe",
        "outputId": "3cc886a0-e8f6-49b8-f5b1-66307aecd27e"
      },
      "execution_count": 14,
      "outputs": [
        {
          "output_type": "stream",
          "name": "stdout",
          "text": [
            "Employee Salary: 800\n",
            "Manager Salary: 900\n"
          ]
        }
      ]
    },
    {
      "cell_type": "code",
      "source": [
        "#15. Create a class Product with attributes name, price, and quantity. Implement a method total_price() that calculates the total price of the product.\n",
        "class Product:\n",
        "    def __init__(self, name, price, quantity):\n",
        "        self.name = name\n",
        "        self.price = price\n",
        "        self.quantity = quantity\n",
        "\n",
        "    def total_price(self):\n",
        "        return self.price * self.quantity\n",
        "\n",
        "p = Product(\"Notebook\", 50, 3)\n",
        "print(\"Total price:\", p.total_price())\n"
      ],
      "metadata": {
        "colab": {
          "base_uri": "https://localhost:8080/"
        },
        "id": "-3tsNUpamo0P",
        "outputId": "eef38bc5-f558-4070-ea15-552413436363"
      },
      "execution_count": 15,
      "outputs": [
        {
          "output_type": "stream",
          "name": "stdout",
          "text": [
            "Total price: 150\n"
          ]
        }
      ]
    },
    {
      "cell_type": "code",
      "source": [
        "#16. Create a class Animal with an abstract method sound(). Create two derived classes Cow and Sheep that implement the sound() method.\n",
        "from abc import ABC, abstractmethod\n",
        "\n",
        "class Animal(ABC):\n",
        "    @abstractmethod\n",
        "    def sound(self):\n",
        "        pass\n",
        "\n",
        "class Cow(Animal):\n",
        "    def sound(self):\n",
        "        print(\"Moo\")\n",
        "\n",
        "class Sheep(Animal):\n",
        "    def sound(self):\n",
        "        print(\"Baa\")\n",
        "\n",
        "c = Cow()\n",
        "s = Sheep()\n",
        "c.sound()\n",
        "s.sound()\n"
      ],
      "metadata": {
        "colab": {
          "base_uri": "https://localhost:8080/"
        },
        "id": "kVW_33fVmfU6",
        "outputId": "06a82ad4-1a44-4048-f62a-13aeda4560ca"
      },
      "execution_count": 16,
      "outputs": [
        {
          "output_type": "stream",
          "name": "stdout",
          "text": [
            "Moo\n",
            "Baa\n"
          ]
        }
      ]
    },
    {
      "cell_type": "code",
      "source": [
        "#17. Create a class Book with attributes title, author, and year_published. Add a method get_book_info() that returns a formatted string with the book's details.\n",
        "class Book:\n",
        "    def __init__(self, title, author, year_published):\n",
        "        self.title = title\n",
        "        self.author = author\n",
        "        self.year_published = year_published\n",
        "\n",
        "    def get_book_info(self):\n",
        "        return f\"{self.title} by {self.author}, published in {self.year_published}\"\n",
        "\n",
        "b = Book(\"The Alchemist\", \"Paulo Coelho\", 1988)\n",
        "print(b.get_book_info())\n"
      ],
      "metadata": {
        "colab": {
          "base_uri": "https://localhost:8080/"
        },
        "id": "lO7FEcRanBlK",
        "outputId": "6862a81f-d03e-484e-80fc-d51a8c5003fd"
      },
      "execution_count": 17,
      "outputs": [
        {
          "output_type": "stream",
          "name": "stdout",
          "text": [
            "The Alchemist by Paulo Coelho, published in 1988\n"
          ]
        }
      ]
    },
    {
      "cell_type": "code",
      "source": [
        "#18. Create a class House with attributes address and price. Create a derived class Mansion that adds an attribute number_of_rooms.\n",
        "class House:\n",
        "    def __init__(self, address, price):\n",
        "        self.address = address\n",
        "        self.price = price\n",
        "\n",
        "class Mansion(House):\n",
        "    def __init__(self, address, price, number_of_rooms):\n",
        "        super().__init__(address, price)\n",
        "        self.number_of_rooms = number_of_rooms\n",
        "\n",
        "m = Mansion(\"123 Luxury St\", 5000000, 10)\n",
        "print(\"Address:\", m.address)\n",
        "print(\"Price:\", m.price)\n",
        "print(\"Number of rooms:\", m.number_of_rooms)\n"
      ],
      "metadata": {
        "colab": {
          "base_uri": "https://localhost:8080/"
        },
        "id": "fpE5P62_nBJQ",
        "outputId": "201478a7-26b3-427c-ab5c-48aa29a6ae04"
      },
      "execution_count": 18,
      "outputs": [
        {
          "output_type": "stream",
          "name": "stdout",
          "text": [
            "Address: 123 Luxury St\n",
            "Price: 5000000\n",
            "Number of rooms: 10\n"
          ]
        }
      ]
    }
  ]
}